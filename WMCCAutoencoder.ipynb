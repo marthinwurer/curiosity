{
 "cells": [
  {
   "cell_type": "code",
   "execution_count": 1,
   "metadata": {},
   "outputs": [],
   "source": [
    "%matplotlib inline\n",
    "%load_ext autoreload\n",
    "%autoreload 2"
   ]
  },
  {
   "cell_type": "code",
   "execution_count": 2,
   "metadata": {},
   "outputs": [],
   "source": [
    "import tqdm\n",
    "import torch\n",
    "import random\n",
    "import math\n",
    "\n",
    "from tqdm import tqdm\n",
    "import numpy as np\n",
    "from PIL import Image\n",
    "\n",
    "import torch\n",
    "from torch import nn, optim, Tensor\n",
    "from torch.nn import functional as F\n",
    "from torch.autograd import Variable, grad\n",
    "from torch.utils.data import DataLoader\n",
    "from torch.utils.data import Dataset\n",
    "from torchvision import datasets, transforms, utils\n",
    "\n",
    "import matplotlib.pyplot as plt\n",
    "import matplotlib as mpl\n",
    "import numpy as np\n",
    "import os\n",
    "from PIL import Image\n",
    "import PIL.ImageFilter as ImageFilter\n",
    "\n",
    "mpl.rcParams['figure.figsize'] = [10.0, 10.0]"
   ]
  },
  {
   "cell_type": "code",
   "execution_count": 3,
   "metadata": {},
   "outputs": [],
   "source": [
    "from coordconv import *\n",
    "from utilities import flatten, unflatten, nan_canary, view\n",
    "from image_dataset import ImageListDataset\n",
    "from single_dot_dataset import CoordConvTranspose2d"
   ]
  },
  {
   "cell_type": "code",
   "execution_count": 4,
   "metadata": {},
   "outputs": [],
   "source": [
    "class WMEncoder(nn.Module):\n",
    "    def __init__(self):\n",
    "        super().__init__()\n",
    "        self.conv1 = CoordConv2d(3, 32, 4, stride=2)\n",
    "        self.conv2 = CoordConv2d(32, 64, 4, stride=2)\n",
    "        self.conv3 = CoordConv2d(64, 128, 4, stride=2)\n",
    "        self.conv4 = CoordConv2d(128, 256, 4, stride=2)  # 2x2x256\n",
    "\n",
    "    def forward(self, x):\n",
    "        x = F.relu(self.conv1(x))\n",
    "        x = F.layer_norm(x, x.size()[1:])\n",
    "#         print(x.shape)\n",
    "        nan_canary(x)\n",
    "        x = F.relu(self.conv2(x))\n",
    "#         print(x.shape)\n",
    "        nan_canary(x)\n",
    "        x = F.layer_norm(x, x.size()[1:])\n",
    "#         print(x.shape)\n",
    "        nan_canary(x)\n",
    "        x = F.relu(self.conv3(x))\n",
    "#         print(x.shape)\n",
    "        x = F.layer_norm(x, x.size()[1:])\n",
    "#         print(x.shape)\n",
    "        nan_canary(x)\n",
    "        x = F.relu(self.conv4(x))\n",
    "#         print(x.shape)\n",
    "        x = F.layer_norm(x, x.size()[1:])\n",
    "        nan_canary(x)\n",
    "#         print(x.shape)\n",
    "        return x"
   ]
  },
  {
   "cell_type": "code",
   "execution_count": 5,
   "metadata": {},
   "outputs": [],
   "source": [
    "class WMDecoder(nn.Module):\n",
    "    def __init__(self):\n",
    "        super().__init__()\n",
    "#         self.deconv1 = CoordConvTranspose2d(1024, 128, 5, stride=2)\n",
    "        self.deconv1 = CoordConvTranspose2d(1024, 128, 5, stride=2)\n",
    "        self.deconv2 = CoordConvTranspose2d(128, 64, 5, stride=2)\n",
    "        self.deconv3 = CoordConvTranspose2d(64, 32, 6, stride=2)\n",
    "        self.deconv4 = CoordConvTranspose2d(32, 16, 6, stride=2)\n",
    "        self.to_rgb = CoordConv2d(16, 3, 1, stride=1)\n",
    "\n",
    "\n",
    "    def forward(self, x):\n",
    "        nan_canary(x)\n",
    "#         print(x.shape)\n",
    "        x = F.layer_norm(x, x.size()[1:])\n",
    "#         print(x.shape)\n",
    "        nan_canary(x)\n",
    "        x = self.deconv1(x)\n",
    "        nan_canary(x)\n",
    "        x = F.relu(x)\n",
    "#         print(x.shape)\n",
    "        nan_canary(x)\n",
    "        x = F.relu(self.deconv2(F.layer_norm(x, x.size()[1:])))\n",
    "#         print(x.shape)\n",
    "        nan_canary(x)\n",
    "        x = F.relu(self.deconv3(F.layer_norm(x, x.size()[1:])))\n",
    "#         print(x.shape)\n",
    "        nan_canary(x)\n",
    "        x = F.layer_norm(x, x.size()[1:])    \n",
    "        x = F.relu(self.deconv4(x))  # activation and norm removed so it's a fully linear layer\n",
    "        x = self.to_rgb(x)\n",
    "        return x"
   ]
  },
  {
   "cell_type": "code",
   "execution_count": 6,
   "metadata": {},
   "outputs": [],
   "source": [
    "class WMLatent(nn.Module):\n",
    "    def __init__(self):\n",
    "        super().__init__()\n",
    "        self.compress = nn.Linear(1024, 128)\n",
    "        self.decompress = nn.Linear(128, 1024)\n",
    "    \n",
    "    def forward(self, x):\n",
    "        x = flatten(x)\n",
    "        x = self.compress(x)\n",
    "        nan_canary(x)\n",
    "        latent = x\n",
    "        x = self.decompress(x)\n",
    "        x = unflatten(x)\n",
    "        return x, latent"
   ]
  },
  {
   "cell_type": "code",
   "execution_count": 7,
   "metadata": {},
   "outputs": [],
   "source": [
    "class WMAutoencoder(nn.Module):\n",
    "    def __init__(self):\n",
    "        super().__init__()\n",
    "        self.encoder = WMEncoder()\n",
    "        self.latent = WMLatent()\n",
    "        self.decoder = WMDecoder()\n",
    "    \n",
    "    def forward(self, x):\n",
    "        x = self.encoder(x)\n",
    "#         print(x.shape)\n",
    "        x, latent = self.latent(x)\n",
    "        x = self.decoder(x)\n",
    "        return x, latent\n",
    "    \n",
    "    def loss(self, inputs, outputs, latents):\n",
    "        return F.mse_loss(inputs, outputs)"
   ]
  },
  {
   "cell_type": "code",
   "execution_count": 8,
   "metadata": {},
   "outputs": [],
   "source": [
    "# BATCH_SIZE = 512\n",
    "# BATCH_SIZE = 256\n",
    "# BATCH_SIZE = 128\n",
    "BATCH_SIZE = 32\n",
    "# BATCH_SIZE = 8\n",
    "LEARNING_RATE = 0.0001\n",
    "EPOCHS = 30\n",
    "MOMENTUM = 0.9\n",
    "# IN_POWER = 8\n",
    "# IN_POWER = 6\n",
    "in_dim = 64"
   ]
  },
  {
   "cell_type": "code",
   "execution_count": 9,
   "metadata": {},
   "outputs": [],
   "source": [
    "mean = (0.5, 0.5, 0.5)\n",
    "stddev = (0.5, 0.5, 0.5)\n",
    "\n",
    "net_transform = transforms.Compose([\n",
    "    transforms.Resize(in_dim),\n",
    "    transforms.RandomCrop(in_dim, pad_if_needed=True),\n",
    "    transforms.ToTensor(),\n",
    "    transforms.Normalize(mean, stddev)\n",
    "])"
   ]
  },
  {
   "cell_type": "code",
   "execution_count": 10,
   "metadata": {},
   "outputs": [],
   "source": [
    "dataset = ImageListDataset(\"local_imagenet_items.txt\", transform=net_transform)"
   ]
  },
  {
   "cell_type": "code",
   "execution_count": 11,
   "metadata": {},
   "outputs": [],
   "source": [
    "trainloader = torch.utils.data.DataLoader(\n",
    "    dataset,\n",
    "    batch_size=BATCH_SIZE,\n",
    "    shuffle=True,\n",
    "    num_workers=20\n",
    ")\n",
    "\n",
    "train_batches = math.ceil(len(dataset) / BATCH_SIZE)"
   ]
  },
  {
   "cell_type": "code",
   "execution_count": 17,
   "metadata": {},
   "outputs": [],
   "source": [
    "model = WMAutoencoder().cuda()"
   ]
  },
  {
   "cell_type": "code",
   "execution_count": 18,
   "metadata": {},
   "outputs": [],
   "source": [
    "optimizer = optim.Adam(model.parameters(), lr=LEARNING_RATE)"
   ]
  },
  {
   "cell_type": "code",
   "execution_count": 19,
   "metadata": {},
   "outputs": [],
   "source": [
    "def train_batch(inputs, model, optimizer):\n",
    "    # get the inputs\n",
    "    inputs = inputs.cuda()\n",
    "\n",
    "    if torch.isnan(inputs).any():\n",
    "        print(\"There's a NaN input!\")\n",
    "        return None\n",
    "\n",
    "    # zero the parameter gradients\n",
    "    optimizer.zero_grad()\n",
    "\n",
    "    # forward + backward + optimize\n",
    "    outputs, latents = model(inputs)\n",
    "    \n",
    "    if torch.isnan(outputs).any():\n",
    "        print(\"There's a NaN output!\")\n",
    "        return None\n",
    "    loss = model.loss(inputs, outputs, latents)\n",
    "    loss.backward()\n",
    "    optimizer.step()\n",
    "    return loss"
   ]
  },
  {
   "cell_type": "code",
   "execution_count": 20,
   "metadata": {},
   "outputs": [
    {
     "name": "stderr",
     "output_type": "stream",
     "text": [
      "\r",
      "  0%|          | 0/40037 [00:00<?, ?batch/s]"
     ]
    },
    {
     "name": "stdout",
     "output_type": "stream",
     "text": [
      "0\n",
      "tensor([[[[nan, nan, nan, nan, nan],\n",
      "          [nan, nan, nan, nan, nan],\n",
      "          [nan, nan, nan, nan, nan],\n",
      "          [nan, nan, nan, nan, nan],\n",
      "          [nan, nan, nan, nan, nan]],\n",
      "\n",
      "         [[nan, nan, nan, nan, nan],\n",
      "          [nan, nan, nan, nan, nan],\n",
      "          [nan, nan, nan, nan, nan],\n",
      "          [nan, nan, nan, nan, nan],\n",
      "          [nan, nan, nan, nan, nan]],\n",
      "\n",
      "         [[nan, nan, nan, nan, nan],\n",
      "          [nan, nan, nan, nan, nan],\n",
      "          [nan, nan, nan, nan, nan],\n",
      "          [nan, nan, nan, nan, nan],\n",
      "          [nan, nan, nan, nan, nan]],\n",
      "\n",
      "         ...,\n",
      "\n",
      "         [[nan, nan, nan, nan, nan],\n",
      "          [nan, nan, nan, nan, nan],\n",
      "          [nan, nan, nan, nan, nan],\n",
      "          [nan, nan, nan, nan, nan],\n",
      "          [nan, nan, nan, nan, nan]],\n",
      "\n",
      "         [[nan, nan, nan, nan, nan],\n",
      "          [nan, nan, nan, nan, nan],\n",
      "          [nan, nan, nan, nan, nan],\n",
      "          [nan, nan, nan, nan, nan],\n",
      "          [nan, nan, nan, nan, nan]],\n",
      "\n",
      "         [[nan, nan, nan, nan, nan],\n",
      "          [nan, nan, nan, nan, nan],\n",
      "          [nan, nan, nan, nan, nan],\n",
      "          [nan, nan, nan, nan, nan],\n",
      "          [nan, nan, nan, nan, nan]]],\n",
      "\n",
      "\n",
      "        [[[nan, nan, nan, nan, nan],\n",
      "          [nan, nan, nan, nan, nan],\n",
      "          [nan, nan, nan, nan, nan],\n",
      "          [nan, nan, nan, nan, nan],\n",
      "          [nan, nan, nan, nan, nan]],\n",
      "\n",
      "         [[nan, nan, nan, nan, nan],\n",
      "          [nan, nan, nan, nan, nan],\n",
      "          [nan, nan, nan, nan, nan],\n",
      "          [nan, nan, nan, nan, nan],\n",
      "          [nan, nan, nan, nan, nan]],\n",
      "\n",
      "         [[nan, nan, nan, nan, nan],\n",
      "          [nan, nan, nan, nan, nan],\n",
      "          [nan, nan, nan, nan, nan],\n",
      "          [nan, nan, nan, nan, nan],\n",
      "          [nan, nan, nan, nan, nan]],\n",
      "\n",
      "         ...,\n",
      "\n",
      "         [[nan, nan, nan, nan, nan],\n",
      "          [nan, nan, nan, nan, nan],\n",
      "          [nan, nan, nan, nan, nan],\n",
      "          [nan, nan, nan, nan, nan],\n",
      "          [nan, nan, nan, nan, nan]],\n",
      "\n",
      "         [[nan, nan, nan, nan, nan],\n",
      "          [nan, nan, nan, nan, nan],\n",
      "          [nan, nan, nan, nan, nan],\n",
      "          [nan, nan, nan, nan, nan],\n",
      "          [nan, nan, nan, nan, nan]],\n",
      "\n",
      "         [[nan, nan, nan, nan, nan],\n",
      "          [nan, nan, nan, nan, nan],\n",
      "          [nan, nan, nan, nan, nan],\n",
      "          [nan, nan, nan, nan, nan],\n",
      "          [nan, nan, nan, nan, nan]]],\n",
      "\n",
      "\n",
      "        [[[nan, nan, nan, nan, nan],\n",
      "          [nan, nan, nan, nan, nan],\n",
      "          [nan, nan, nan, nan, nan],\n",
      "          [nan, nan, nan, nan, nan],\n",
      "          [nan, nan, nan, nan, nan]],\n",
      "\n",
      "         [[nan, nan, nan, nan, nan],\n",
      "          [nan, nan, nan, nan, nan],\n",
      "          [nan, nan, nan, nan, nan],\n",
      "          [nan, nan, nan, nan, nan],\n",
      "          [nan, nan, nan, nan, nan]],\n",
      "\n",
      "         [[nan, nan, nan, nan, nan],\n",
      "          [nan, nan, nan, nan, nan],\n",
      "          [nan, nan, nan, nan, nan],\n",
      "          [nan, nan, nan, nan, nan],\n",
      "          [nan, nan, nan, nan, nan]],\n",
      "\n",
      "         ...,\n",
      "\n",
      "         [[nan, nan, nan, nan, nan],\n",
      "          [nan, nan, nan, nan, nan],\n",
      "          [nan, nan, nan, nan, nan],\n",
      "          [nan, nan, nan, nan, nan],\n",
      "          [nan, nan, nan, nan, nan]],\n",
      "\n",
      "         [[nan, nan, nan, nan, nan],\n",
      "          [nan, nan, nan, nan, nan],\n",
      "          [nan, nan, nan, nan, nan],\n",
      "          [nan, nan, nan, nan, nan],\n",
      "          [nan, nan, nan, nan, nan]],\n",
      "\n",
      "         [[nan, nan, nan, nan, nan],\n",
      "          [nan, nan, nan, nan, nan],\n",
      "          [nan, nan, nan, nan, nan],\n",
      "          [nan, nan, nan, nan, nan],\n",
      "          [nan, nan, nan, nan, nan]]],\n",
      "\n",
      "\n",
      "        ...,\n",
      "\n",
      "\n",
      "        [[[nan, nan, nan, nan, nan],\n",
      "          [nan, nan, nan, nan, nan],\n",
      "          [nan, nan, nan, nan, nan],\n",
      "          [nan, nan, nan, nan, nan],\n",
      "          [nan, nan, nan, nan, nan]],\n",
      "\n",
      "         [[nan, nan, nan, nan, nan],\n",
      "          [nan, nan, nan, nan, nan],\n",
      "          [nan, nan, nan, nan, nan],\n",
      "          [nan, nan, nan, nan, nan],\n",
      "          [nan, nan, nan, nan, nan]],\n",
      "\n",
      "         [[nan, nan, nan, nan, nan],\n",
      "          [nan, nan, nan, nan, nan],\n",
      "          [nan, nan, nan, nan, nan],\n",
      "          [nan, nan, nan, nan, nan],\n",
      "          [nan, nan, nan, nan, nan]],\n",
      "\n",
      "         ...,\n",
      "\n",
      "         [[nan, nan, nan, nan, nan],\n",
      "          [nan, nan, nan, nan, nan],\n",
      "          [nan, nan, nan, nan, nan],\n",
      "          [nan, nan, nan, nan, nan],\n",
      "          [nan, nan, nan, nan, nan]],\n",
      "\n",
      "         [[nan, nan, nan, nan, nan],\n",
      "          [nan, nan, nan, nan, nan],\n",
      "          [nan, nan, nan, nan, nan],\n",
      "          [nan, nan, nan, nan, nan],\n",
      "          [nan, nan, nan, nan, nan]],\n",
      "\n",
      "         [[nan, nan, nan, nan, nan],\n",
      "          [nan, nan, nan, nan, nan],\n",
      "          [nan, nan, nan, nan, nan],\n",
      "          [nan, nan, nan, nan, nan],\n",
      "          [nan, nan, nan, nan, nan]]],\n",
      "\n",
      "\n",
      "        [[[nan, nan, nan, nan, nan],\n",
      "          [nan, nan, nan, nan, nan],\n",
      "          [nan, nan, nan, nan, nan],\n",
      "          [nan, nan, nan, nan, nan],\n",
      "          [nan, nan, nan, nan, nan]],\n",
      "\n",
      "         [[nan, nan, nan, nan, nan],\n",
      "          [nan, nan, nan, nan, nan],\n",
      "          [nan, nan, nan, nan, nan],\n",
      "          [nan, nan, nan, nan, nan],\n",
      "          [nan, nan, nan, nan, nan]],\n",
      "\n",
      "         [[nan, nan, nan, nan, nan],\n",
      "          [nan, nan, nan, nan, nan],\n",
      "          [nan, nan, nan, nan, nan],\n",
      "          [nan, nan, nan, nan, nan],\n",
      "          [nan, nan, nan, nan, nan]],\n",
      "\n",
      "         ...,\n",
      "\n",
      "         [[nan, nan, nan, nan, nan],\n",
      "          [nan, nan, nan, nan, nan],\n",
      "          [nan, nan, nan, nan, nan],\n",
      "          [nan, nan, nan, nan, nan],\n",
      "          [nan, nan, nan, nan, nan]],\n",
      "\n",
      "         [[nan, nan, nan, nan, nan],\n",
      "          [nan, nan, nan, nan, nan],\n",
      "          [nan, nan, nan, nan, nan],\n",
      "          [nan, nan, nan, nan, nan],\n",
      "          [nan, nan, nan, nan, nan]],\n",
      "\n",
      "         [[nan, nan, nan, nan, nan],\n",
      "          [nan, nan, nan, nan, nan],\n",
      "          [nan, nan, nan, nan, nan],\n",
      "          [nan, nan, nan, nan, nan],\n",
      "          [nan, nan, nan, nan, nan]]],\n",
      "\n",
      "\n",
      "        [[[nan, nan, nan, nan, nan],\n",
      "          [nan, nan, nan, nan, nan],\n",
      "          [nan, nan, nan, nan, nan],\n",
      "          [nan, nan, nan, nan, nan],\n",
      "          [nan, nan, nan, nan, nan]],\n",
      "\n",
      "         [[nan, nan, nan, nan, nan],\n",
      "          [nan, nan, nan, nan, nan],\n",
      "          [nan, nan, nan, nan, nan],\n",
      "          [nan, nan, nan, nan, nan],\n",
      "          [nan, nan, nan, nan, nan]],\n",
      "\n",
      "         [[nan, nan, nan, nan, nan],\n",
      "          [nan, nan, nan, nan, nan],\n",
      "          [nan, nan, nan, nan, nan],\n",
      "          [nan, nan, nan, nan, nan],\n",
      "          [nan, nan, nan, nan, nan]],\n",
      "\n",
      "         ...,\n",
      "\n",
      "         [[nan, nan, nan, nan, nan],\n",
      "          [nan, nan, nan, nan, nan],\n",
      "          [nan, nan, nan, nan, nan],\n",
      "          [nan, nan, nan, nan, nan],\n",
      "          [nan, nan, nan, nan, nan]],\n",
      "\n",
      "         [[nan, nan, nan, nan, nan],\n",
      "          [nan, nan, nan, nan, nan],\n",
      "          [nan, nan, nan, nan, nan],\n",
      "          [nan, nan, nan, nan, nan],\n",
      "          [nan, nan, nan, nan, nan]],\n",
      "\n",
      "         [[nan, nan, nan, nan, nan],\n",
      "          [nan, nan, nan, nan, nan],\n",
      "          [nan, nan, nan, nan, nan],\n",
      "          [nan, nan, nan, nan, nan],\n",
      "          [nan, nan, nan, nan, nan]]]], device='cuda:0',\n",
      "       grad_fn=<CudnnConvolutionTransposeBackward>)\n"
     ]
    },
    {
     "name": "stderr",
     "output_type": "stream",
     "text": [
      "  0%|          | 0/40037 [00:00<?, ?batch/s]\n"
     ]
    },
    {
     "ename": "Exception",
     "evalue": "Found NaN!",
     "output_type": "error",
     "traceback": [
      "\u001b[0;31m---------------------------------------------------------------------------\u001b[0m",
      "\u001b[0;31mException\u001b[0m                                 Traceback (most recent call last)",
      "\u001b[0;32m<ipython-input-20-0bd2d9c601db>\u001b[0m in \u001b[0;36m<module>\u001b[0;34m\u001b[0m\n\u001b[1;32m      7\u001b[0m         \u001b[0;31m# get the inputs\u001b[0m\u001b[0;34m\u001b[0m\u001b[0;34m\u001b[0m\u001b[0;34m\u001b[0m\u001b[0m\n\u001b[1;32m      8\u001b[0m         \u001b[0mprint\u001b[0m\u001b[0;34m(\u001b[0m\u001b[0mi\u001b[0m\u001b[0;34m)\u001b[0m\u001b[0;34m\u001b[0m\u001b[0;34m\u001b[0m\u001b[0m\n\u001b[0;32m----> 9\u001b[0;31m         \u001b[0mloss\u001b[0m \u001b[0;34m=\u001b[0m \u001b[0mtrain_batch\u001b[0m\u001b[0;34m(\u001b[0m\u001b[0mdata\u001b[0m\u001b[0;34m,\u001b[0m \u001b[0mmodel\u001b[0m\u001b[0;34m,\u001b[0m \u001b[0moptimizer\u001b[0m\u001b[0;34m)\u001b[0m\u001b[0;34m\u001b[0m\u001b[0;34m\u001b[0m\u001b[0m\n\u001b[0m\u001b[1;32m     10\u001b[0m \u001b[0;34m\u001b[0m\u001b[0m\n\u001b[1;32m     11\u001b[0m \u001b[0;34m\u001b[0m\u001b[0m\n",
      "\u001b[0;32m<ipython-input-19-d3ff9af554dd>\u001b[0m in \u001b[0;36mtrain_batch\u001b[0;34m(inputs, model, optimizer)\u001b[0m\n\u001b[1;32m     11\u001b[0m \u001b[0;34m\u001b[0m\u001b[0m\n\u001b[1;32m     12\u001b[0m     \u001b[0;31m# forward + backward + optimize\u001b[0m\u001b[0;34m\u001b[0m\u001b[0;34m\u001b[0m\u001b[0;34m\u001b[0m\u001b[0m\n\u001b[0;32m---> 13\u001b[0;31m     \u001b[0moutputs\u001b[0m\u001b[0;34m,\u001b[0m \u001b[0mlatents\u001b[0m \u001b[0;34m=\u001b[0m \u001b[0mmodel\u001b[0m\u001b[0;34m(\u001b[0m\u001b[0minputs\u001b[0m\u001b[0;34m)\u001b[0m\u001b[0;34m\u001b[0m\u001b[0;34m\u001b[0m\u001b[0m\n\u001b[0m\u001b[1;32m     14\u001b[0m \u001b[0;34m\u001b[0m\u001b[0m\n\u001b[1;32m     15\u001b[0m     \u001b[0;32mif\u001b[0m \u001b[0mtorch\u001b[0m\u001b[0;34m.\u001b[0m\u001b[0misnan\u001b[0m\u001b[0;34m(\u001b[0m\u001b[0moutputs\u001b[0m\u001b[0;34m)\u001b[0m\u001b[0;34m.\u001b[0m\u001b[0many\u001b[0m\u001b[0;34m(\u001b[0m\u001b[0;34m)\u001b[0m\u001b[0;34m:\u001b[0m\u001b[0;34m\u001b[0m\u001b[0;34m\u001b[0m\u001b[0m\n",
      "\u001b[0;32m~/.pyenv/versions/3.7.6/envs/datasci/lib/python3.7/site-packages/torch/nn/modules/module.py\u001b[0m in \u001b[0;36m__call__\u001b[0;34m(self, *input, **kwargs)\u001b[0m\n\u001b[1;32m    539\u001b[0m             \u001b[0mresult\u001b[0m \u001b[0;34m=\u001b[0m \u001b[0mself\u001b[0m\u001b[0;34m.\u001b[0m\u001b[0m_slow_forward\u001b[0m\u001b[0;34m(\u001b[0m\u001b[0;34m*\u001b[0m\u001b[0minput\u001b[0m\u001b[0;34m,\u001b[0m \u001b[0;34m**\u001b[0m\u001b[0mkwargs\u001b[0m\u001b[0;34m)\u001b[0m\u001b[0;34m\u001b[0m\u001b[0;34m\u001b[0m\u001b[0m\n\u001b[1;32m    540\u001b[0m         \u001b[0;32melse\u001b[0m\u001b[0;34m:\u001b[0m\u001b[0;34m\u001b[0m\u001b[0;34m\u001b[0m\u001b[0m\n\u001b[0;32m--> 541\u001b[0;31m             \u001b[0mresult\u001b[0m \u001b[0;34m=\u001b[0m \u001b[0mself\u001b[0m\u001b[0;34m.\u001b[0m\u001b[0mforward\u001b[0m\u001b[0;34m(\u001b[0m\u001b[0;34m*\u001b[0m\u001b[0minput\u001b[0m\u001b[0;34m,\u001b[0m \u001b[0;34m**\u001b[0m\u001b[0mkwargs\u001b[0m\u001b[0;34m)\u001b[0m\u001b[0;34m\u001b[0m\u001b[0;34m\u001b[0m\u001b[0m\n\u001b[0m\u001b[1;32m    542\u001b[0m         \u001b[0;32mfor\u001b[0m \u001b[0mhook\u001b[0m \u001b[0;32min\u001b[0m \u001b[0mself\u001b[0m\u001b[0;34m.\u001b[0m\u001b[0m_forward_hooks\u001b[0m\u001b[0;34m.\u001b[0m\u001b[0mvalues\u001b[0m\u001b[0;34m(\u001b[0m\u001b[0;34m)\u001b[0m\u001b[0;34m:\u001b[0m\u001b[0;34m\u001b[0m\u001b[0;34m\u001b[0m\u001b[0m\n\u001b[1;32m    543\u001b[0m             \u001b[0mhook_result\u001b[0m \u001b[0;34m=\u001b[0m \u001b[0mhook\u001b[0m\u001b[0;34m(\u001b[0m\u001b[0mself\u001b[0m\u001b[0;34m,\u001b[0m \u001b[0minput\u001b[0m\u001b[0;34m,\u001b[0m \u001b[0mresult\u001b[0m\u001b[0;34m)\u001b[0m\u001b[0;34m\u001b[0m\u001b[0;34m\u001b[0m\u001b[0m\n",
      "\u001b[0;32m<ipython-input-7-bf897a5d4e84>\u001b[0m in \u001b[0;36mforward\u001b[0;34m(self, x)\u001b[0m\n\u001b[1;32m     10\u001b[0m \u001b[0;31m#         print(x.shape)\u001b[0m\u001b[0;34m\u001b[0m\u001b[0;34m\u001b[0m\u001b[0;34m\u001b[0m\u001b[0m\n\u001b[1;32m     11\u001b[0m         \u001b[0mx\u001b[0m\u001b[0;34m,\u001b[0m \u001b[0mlatent\u001b[0m \u001b[0;34m=\u001b[0m \u001b[0mself\u001b[0m\u001b[0;34m.\u001b[0m\u001b[0mlatent\u001b[0m\u001b[0;34m(\u001b[0m\u001b[0mx\u001b[0m\u001b[0;34m)\u001b[0m\u001b[0;34m\u001b[0m\u001b[0;34m\u001b[0m\u001b[0m\n\u001b[0;32m---> 12\u001b[0;31m         \u001b[0mx\u001b[0m \u001b[0;34m=\u001b[0m \u001b[0mself\u001b[0m\u001b[0;34m.\u001b[0m\u001b[0mdecoder\u001b[0m\u001b[0;34m(\u001b[0m\u001b[0mx\u001b[0m\u001b[0;34m)\u001b[0m\u001b[0;34m\u001b[0m\u001b[0;34m\u001b[0m\u001b[0m\n\u001b[0m\u001b[1;32m     13\u001b[0m         \u001b[0;32mreturn\u001b[0m \u001b[0mx\u001b[0m\u001b[0;34m,\u001b[0m \u001b[0mlatent\u001b[0m\u001b[0;34m\u001b[0m\u001b[0;34m\u001b[0m\u001b[0m\n\u001b[1;32m     14\u001b[0m \u001b[0;34m\u001b[0m\u001b[0m\n",
      "\u001b[0;32m~/.pyenv/versions/3.7.6/envs/datasci/lib/python3.7/site-packages/torch/nn/modules/module.py\u001b[0m in \u001b[0;36m__call__\u001b[0;34m(self, *input, **kwargs)\u001b[0m\n\u001b[1;32m    539\u001b[0m             \u001b[0mresult\u001b[0m \u001b[0;34m=\u001b[0m \u001b[0mself\u001b[0m\u001b[0;34m.\u001b[0m\u001b[0m_slow_forward\u001b[0m\u001b[0;34m(\u001b[0m\u001b[0;34m*\u001b[0m\u001b[0minput\u001b[0m\u001b[0;34m,\u001b[0m \u001b[0;34m**\u001b[0m\u001b[0mkwargs\u001b[0m\u001b[0;34m)\u001b[0m\u001b[0;34m\u001b[0m\u001b[0;34m\u001b[0m\u001b[0m\n\u001b[1;32m    540\u001b[0m         \u001b[0;32melse\u001b[0m\u001b[0;34m:\u001b[0m\u001b[0;34m\u001b[0m\u001b[0;34m\u001b[0m\u001b[0m\n\u001b[0;32m--> 541\u001b[0;31m             \u001b[0mresult\u001b[0m \u001b[0;34m=\u001b[0m \u001b[0mself\u001b[0m\u001b[0;34m.\u001b[0m\u001b[0mforward\u001b[0m\u001b[0;34m(\u001b[0m\u001b[0;34m*\u001b[0m\u001b[0minput\u001b[0m\u001b[0;34m,\u001b[0m \u001b[0;34m**\u001b[0m\u001b[0mkwargs\u001b[0m\u001b[0;34m)\u001b[0m\u001b[0;34m\u001b[0m\u001b[0;34m\u001b[0m\u001b[0m\n\u001b[0m\u001b[1;32m    542\u001b[0m         \u001b[0;32mfor\u001b[0m \u001b[0mhook\u001b[0m \u001b[0;32min\u001b[0m \u001b[0mself\u001b[0m\u001b[0;34m.\u001b[0m\u001b[0m_forward_hooks\u001b[0m\u001b[0;34m.\u001b[0m\u001b[0mvalues\u001b[0m\u001b[0;34m(\u001b[0m\u001b[0;34m)\u001b[0m\u001b[0;34m:\u001b[0m\u001b[0;34m\u001b[0m\u001b[0;34m\u001b[0m\u001b[0m\n\u001b[1;32m    543\u001b[0m             \u001b[0mhook_result\u001b[0m \u001b[0;34m=\u001b[0m \u001b[0mhook\u001b[0m\u001b[0;34m(\u001b[0m\u001b[0mself\u001b[0m\u001b[0;34m,\u001b[0m \u001b[0minput\u001b[0m\u001b[0;34m,\u001b[0m \u001b[0mresult\u001b[0m\u001b[0;34m)\u001b[0m\u001b[0;34m\u001b[0m\u001b[0;34m\u001b[0m\u001b[0m\n",
      "\u001b[0;32m<ipython-input-5-9efb8c742779>\u001b[0m in \u001b[0;36mforward\u001b[0;34m(self, x)\u001b[0m\n\u001b[1;32m     17\u001b[0m         \u001b[0mnan_canary\u001b[0m\u001b[0;34m(\u001b[0m\u001b[0mx\u001b[0m\u001b[0;34m)\u001b[0m\u001b[0;34m\u001b[0m\u001b[0;34m\u001b[0m\u001b[0m\n\u001b[1;32m     18\u001b[0m         \u001b[0mx\u001b[0m \u001b[0;34m=\u001b[0m \u001b[0mself\u001b[0m\u001b[0;34m.\u001b[0m\u001b[0mdeconv1\u001b[0m\u001b[0;34m(\u001b[0m\u001b[0mx\u001b[0m\u001b[0;34m)\u001b[0m\u001b[0;34m\u001b[0m\u001b[0;34m\u001b[0m\u001b[0m\n\u001b[0;32m---> 19\u001b[0;31m         \u001b[0mnan_canary\u001b[0m\u001b[0;34m(\u001b[0m\u001b[0mx\u001b[0m\u001b[0;34m)\u001b[0m\u001b[0;34m\u001b[0m\u001b[0;34m\u001b[0m\u001b[0m\n\u001b[0m\u001b[1;32m     20\u001b[0m         \u001b[0mx\u001b[0m \u001b[0;34m=\u001b[0m \u001b[0mF\u001b[0m\u001b[0;34m.\u001b[0m\u001b[0mrelu\u001b[0m\u001b[0;34m(\u001b[0m\u001b[0mx\u001b[0m\u001b[0;34m)\u001b[0m\u001b[0;34m\u001b[0m\u001b[0;34m\u001b[0m\u001b[0m\n\u001b[1;32m     21\u001b[0m \u001b[0;31m#         print(x.shape)\u001b[0m\u001b[0;34m\u001b[0m\u001b[0;34m\u001b[0m\u001b[0;34m\u001b[0m\u001b[0m\n",
      "\u001b[0;32m~/projects/curiosity/utilities.py\u001b[0m in \u001b[0;36mnan_canary\u001b[0;34m(tensor)\u001b[0m\n\u001b[1;32m    227\u001b[0m     \u001b[0;32mif\u001b[0m \u001b[0mtorch\u001b[0m\u001b[0;34m.\u001b[0m\u001b[0misnan\u001b[0m\u001b[0;34m(\u001b[0m\u001b[0mtensor\u001b[0m\u001b[0;34m)\u001b[0m\u001b[0;34m.\u001b[0m\u001b[0many\u001b[0m\u001b[0;34m(\u001b[0m\u001b[0;34m)\u001b[0m\u001b[0;34m:\u001b[0m\u001b[0;34m\u001b[0m\u001b[0;34m\u001b[0m\u001b[0m\n\u001b[1;32m    228\u001b[0m         \u001b[0mprint\u001b[0m\u001b[0;34m(\u001b[0m\u001b[0mtensor\u001b[0m\u001b[0;34m,\u001b[0m \u001b[0mflush\u001b[0m\u001b[0;34m=\u001b[0m\u001b[0;32mTrue\u001b[0m\u001b[0;34m)\u001b[0m\u001b[0;34m\u001b[0m\u001b[0;34m\u001b[0m\u001b[0m\n\u001b[0;32m--> 229\u001b[0;31m         \u001b[0;32mraise\u001b[0m \u001b[0mException\u001b[0m\u001b[0;34m(\u001b[0m\u001b[0;34m\"Found NaN!\"\u001b[0m\u001b[0;34m)\u001b[0m\u001b[0;34m\u001b[0m\u001b[0;34m\u001b[0m\u001b[0m\n\u001b[0m\u001b[1;32m    230\u001b[0m \u001b[0;34m\u001b[0m\u001b[0m\n\u001b[1;32m    231\u001b[0m \u001b[0;34m\u001b[0m\u001b[0m\n",
      "\u001b[0;31mException\u001b[0m: Found NaN!"
     ]
    }
   ],
   "source": [
    "running_loss = 0\n",
    "loss_steps = 5\n",
    "epoch = 0\n",
    "\n",
    "with tqdm(enumerate(trainloader, 0), total=train_batches, unit=\"batch\") as t:\n",
    "    for i, data in t:\n",
    "        # get the inputs\n",
    "        print(i)\n",
    "        loss = train_batch(data, model, optimizer)\n",
    "        \n",
    "\n",
    "        if loss is None or torch.isnan(loss).any():\n",
    "            print(\"There's a NaN loss!\")\n",
    "            break\n",
    "\n",
    "        # print statistics\n",
    "        running_loss += loss.item()\n",
    "        if i % loss_steps == loss_steps - 1:  # print every N mini-batches\n",
    "            string = '[%d, %5d] loss: %.8f' % (epoch + 1, i + 1, running_loss / loss_steps)\n",
    "            t.set_postfix_str(string)\n",
    "            running_loss = 0.0"
   ]
  },
  {
   "cell_type": "code",
   "execution_count": 280,
   "metadata": {},
   "outputs": [],
   "source": [
    "def image_to_batch(image):\n",
    "    return image.view(1, 3, in_dim, in_dim)"
   ]
  },
  {
   "cell_type": "code",
   "execution_count": 35,
   "metadata": {},
   "outputs": [],
   "source": [
    "def image_to_batch(image):\n",
    "#     image = image.transpose(-1, 0)\n",
    "    return image.view(1, *image.shape)"
   ]
  },
  {
   "cell_type": "code",
   "execution_count": 36,
   "metadata": {},
   "outputs": [],
   "source": [
    "image = dataset[100]"
   ]
  },
  {
   "cell_type": "code",
   "execution_count": 37,
   "metadata": {},
   "outputs": [
    {
     "data": {
      "text/plain": [
       "<matplotlib.image.AxesImage at 0x7f66b28c2690>"
      ]
     },
     "execution_count": 37,
     "metadata": {},
     "output_type": "execute_result"
    },
    {
     "data": {
      "image/png": "[encoded data removed]",
      "text/plain": [
       "<Figure size 720x720 with 1 Axes>"
      ]
     },
     "metadata": {
      "needs_background": "light"
     },
     "output_type": "display_data"
    }
   ],
   "source": [
    "view(image)"
   ]
  },
  {
   "cell_type": "code",
   "execution_count": 38,
   "metadata": {},
   "outputs": [],
   "source": [
    "output, latent = model(image_to_batch(image))"
   ]
  },
  {
   "cell_type": "code",
   "execution_count": 39,
   "metadata": {},
   "outputs": [
    {
     "data": {
      "text/plain": [
       "<matplotlib.image.AxesImage at 0x7f66b282b510>"
      ]
     },
     "execution_count": 39,
     "metadata": {},
     "output_type": "execute_result"
    },
    {
     "data": {
      "image/png": "[encoded data removed]",
      "text/plain": [
       "<Figure size 720x720 with 1 Axes>"
      ]
     },
     "metadata": {
      "needs_background": "light"
     },
     "output_type": "display_data"
    }
   ],
   "source": [
    "view(output[0])"
   ]
  },
  {
   "cell_type": "code",
   "execution_count": 291,
   "metadata": {},
   "outputs": [],
   "source": [
    "def train_epoch(trainloader, train_batches, model, optimizer):\n",
    "    running_loss = 0.0\n",
    "    epoch = 0.0\n",
    "    with tqdm(enumerate(trainloader, 0), total=train_batches, unit=\"batch\") as t:\n",
    "        for i, data in t:\n",
    "            # get the inputs\n",
    "            loss = train_batch(data, model, optimizer)\n",
    "\n",
    "\n",
    "            if loss is None or torch.isnan(loss).any():\n",
    "                print(\"There's a NaN loss!\")\n",
    "                break\n",
    "\n",
    "            # print statistics\n",
    "            running_loss += loss.item()\n",
    "            if i % loss_steps == loss_steps - 1:  # print every N mini-batches\n",
    "                string = '[%d, %5d] loss: %.8f' % (epoch + 1, i + 1, running_loss / loss_steps)\n",
    "                t.set_postfix_str(string)\n",
    "                running_loss = 0.0"
   ]
  },
  {
   "cell_type": "code",
   "execution_count": 292,
   "metadata": {},
   "outputs": [
    {
     "name": "stderr",
     "output_type": "stream",
     "text": [
      " 84%|████████▍ | 33778/40037 [14:48<02:44, 37.95batch/s, [1, 33775] loss: 0.03345012]/home/benjamin/.pyenv/versions/3.7.6/envs/datasci/lib/python3.7/site-packages/PIL/TiffImagePlugin.py:802: UserWarning: Corrupt EXIF data.  Expecting to read 4 bytes but only got 0. \n",
      "  warnings.warn(str(msg))\n",
      "100%|██████████| 40037/40037 [17:31<00:00, 38.07batch/s, [1, 40035] loss: 0.03360012]\n",
      " 91%|█████████ | 36365/40037 [15:48<01:33, 39.41batch/s, [1, 36365] loss: 0.03066947]/home/benjamin/.pyenv/versions/3.7.6/envs/datasci/lib/python3.7/site-packages/PIL/TiffImagePlugin.py:802: UserWarning: Corrupt EXIF data.  Expecting to read 4 bytes but only got 0. \n",
      "  warnings.warn(str(msg))\n",
      "100%|██████████| 40037/40037 [17:24<00:00, 38.32batch/s, [1, 40035] loss: 0.03509885]\n",
      " 46%|████▋     | 18550/40037 [08:03<09:08, 39.16batch/s, [1, 18550] loss: 0.03285464]/home/benjamin/.pyenv/versions/3.7.6/envs/datasci/lib/python3.7/site-packages/PIL/TiffImagePlugin.py:802: UserWarning: Corrupt EXIF data.  Expecting to read 4 bytes but only got 0. \n",
      "  warnings.warn(str(msg))\n",
      "100%|██████████| 40037/40037 [17:25<00:00, 38.31batch/s, [1, 40035] loss: 0.03071321]\n",
      " 98%|█████████▊| 39097/40037 [17:01<00:23, 40.22batch/s, [1, 39100] loss: 0.02999829]/home/benjamin/.pyenv/versions/3.7.6/envs/datasci/lib/python3.7/site-packages/PIL/TiffImagePlugin.py:802: UserWarning: Corrupt EXIF data.  Expecting to read 4 bytes but only got 0. \n",
      "  warnings.warn(str(msg))\n",
      "100%|██████████| 40037/40037 [17:26<00:00, 38.25batch/s, [1, 40035] loss: 0.03100013]\n",
      " 67%|██████▋   | 26729/40037 [11:39<06:15, 35.40batch/s, [1, 26730] loss: 0.03403908]/home/benjamin/.pyenv/versions/3.7.6/envs/datasci/lib/python3.7/site-packages/PIL/TiffImagePlugin.py:802: UserWarning: Corrupt EXIF data.  Expecting to read 4 bytes but only got 0. \n",
      "  warnings.warn(str(msg))\n",
      "100%|██████████| 40037/40037 [17:35<00:00, 37.95batch/s, [1, 40035] loss: 0.03400839]\n"
     ]
    }
   ],
   "source": [
    "for i in range(5):\n",
    "    train_epoch(trainloader, train_batches, model, optimizer)\n",
    "    "
   ]
  },
  {
   "cell_type": "code",
   "execution_count": 299,
   "metadata": {},
   "outputs": [],
   "source": [
    "torch.save(model.state_dict(), \"wmae.mod\")"
   ]
  },
  {
   "cell_type": "code",
   "execution_count": null,
   "metadata": {},
   "outputs": [],
   "source": []
  }
 ],
 "metadata": {
  "kernelspec": {
   "display_name": "Python 3",
   "language": "python",
   "name": "python3"
  },
  "language_info": {
   "codemirror_mode": {
    "name": "ipython",
    "version": 3
   },
   "file_extension": ".py",
   "mimetype": "text/x-python",
   "name": "python",
   "nbconvert_exporter": "python",
   "pygments_lexer": "ipython3",
   "version": "3.7.6"
  }
 },
 "nbformat": 4,
 "nbformat_minor": 2
}
